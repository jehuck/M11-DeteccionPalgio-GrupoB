{
 "cells": [
  {
   "cell_type": "markdown",
   "id": "5c9ce3f4",
   "metadata": {},
   "source": [
    "# Instalo dependencias necesarias..."
   ]
  },
  {
   "cell_type": "markdown",
   "id": "86476199",
   "metadata": {},
   "source": [
    "INvestigar y hacer una conclusion con tf-idf"
   ]
  },
  {
   "cell_type": "code",
   "execution_count": 4,
   "id": "e174c03e",
   "metadata": {},
   "outputs": [
    {
     "name": "stdout",
     "output_type": "stream",
     "text": [
      "Requirement already satisfied: scikit-learn in c:\\users\\usuario\\anaconda3\\lib\\site-packages (0.24.1)\n",
      "Requirement already satisfied: scipy>=0.19.1 in c:\\users\\usuario\\anaconda3\\lib\\site-packages (from scikit-learn) (1.6.2)\n",
      "Requirement already satisfied: joblib>=0.11 in c:\\users\\usuario\\anaconda3\\lib\\site-packages (from scikit-learn) (1.0.1)Note: you may need to restart the kernel to use updated packages.\n",
      "\n"
     ]
    },
    {
     "name": "stderr",
     "output_type": "stream",
     "text": [
      "ERROR: Could not install packages due to an OSError: [WinError 5] Acceso denegado: 'C:\\\\Users\\\\usuario\\\\anaconda3\\\\Lib\\\\site-packages\\\\~umpy\\\\.libs\\\\libopenblas64__v0.3.21-gcc_10_3_0.dll'\n",
      "Consider using the `--user` option or check the permissions.\n",
      "\n"
     ]
    },
    {
     "name": "stdout",
     "output_type": "stream",
     "text": [
      "Requirement already satisfied: threadpoolctl>=2.0.0 in c:\\users\\usuario\\anaconda3\\lib\\site-packages (from scikit-learn) (2.1.0)\n",
      "Requirement already satisfied: numpy>=1.13.3 in c:\\users\\usuario\\anaconda3\\lib\\site-packages (from scikit-learn) (1.24.2)\n",
      "Collecting numpy>=1.13.3\n",
      "  Downloading numpy-1.22.4-cp38-cp38-win_amd64.whl (14.8 MB)\n",
      "Installing collected packages: numpy\n",
      "  Attempting uninstall: numpy\n",
      "    Found existing installation: numpy 1.24.2\n",
      "    Uninstalling numpy-1.24.2:\n",
      "      Successfully uninstalled numpy-1.24.2\n"
     ]
    }
   ],
   "source": [
    "%pip install scikit-learn\n"
   ]
  },
  {
   "cell_type": "code",
   "execution_count": 5,
   "id": "91e469ba",
   "metadata": {},
   "outputs": [
    {
     "name": "stdout",
     "output_type": "stream",
     "text": [
      "Requirement already satisfied: nltk in c:\\users\\usuario\\anaconda3\\lib\\site-packages (3.6.1)\n",
      "Requirement already satisfied: regex in c:\\users\\usuario\\anaconda3\\lib\\site-packages (from nltk) (2021.4.4)\n",
      "Requirement already satisfied: joblib in c:\\users\\usuario\\anaconda3\\lib\\site-packages (from nltk) (1.0.1)\n",
      "Requirement already satisfied: click in c:\\users\\usuario\\anaconda3\\lib\\site-packages (from nltk) (7.1.2)\n",
      "Requirement already satisfied: tqdm in c:\\users\\usuario\\anaconda3\\lib\\site-packages (from nltk) (4.59.0)\n",
      "Note: you may need to restart the kernel to use updated packages.\n"
     ]
    }
   ],
   "source": [
    "%pip install nltk"
   ]
  },
  {
   "cell_type": "markdown",
   "id": "8efaabcf",
   "metadata": {},
   "source": [
    "## Preparo el ambiente"
   ]
  },
  {
   "cell_type": "code",
   "execution_count": 6,
   "id": "026c1a96",
   "metadata": {},
   "outputs": [
    {
     "name": "stderr",
     "output_type": "stream",
     "text": [
      "[nltk_data] Downloading package punkt to\n",
      "[nltk_data]     C:\\Users\\usuario\\AppData\\Roaming\\nltk_data...\n",
      "[nltk_data]   Package punkt is already up-to-date!\n"
     ]
    },
    {
     "data": {
      "text/plain": [
       "True"
      ]
     },
     "execution_count": 6,
     "metadata": {},
     "output_type": "execute_result"
    }
   ],
   "source": [
    "import os\n",
    "import numpy as np\n",
    "import nltk\n",
    "import glob\n",
    "import pandas as pd\n",
    "import matplotlib.pyplot as plt\n",
    "import seaborn as sns\n",
    "from sklearn.cluster import DBSCAN\n",
    "\n",
    "# Importo las librerías necesarias para procesar los textos\n",
    "from nltk.tokenize import sent_tokenize\n",
    "from nltk.corpus import stopwords\n",
    "from nltk.stem import WordNetLemmatizer\n",
    "from nltk.tokenize import word_tokenize\n",
    "\n",
    "import re\n",
    "\n",
    "SPECIAL_CHARACTERS = []\n",
    "\n",
    "SPECIAL_CHARACTERS.extend(map(chr, range(0, 32)))\n",
    "SPECIAL_CHARACTERS.extend(map(chr, range(33, 48)))\n",
    "SPECIAL_CHARACTERS.extend(map(chr, range(58, 65)))\n",
    "SPECIAL_CHARACTERS.extend(map(chr, range(91, 97)))\n",
    "SPECIAL_CHARACTERS.extend(map(chr, range(123, 225)))\n",
    "SPECIAL_CHARACTERS.extend(map(chr, range(226, 233)))\n",
    "SPECIAL_CHARACTERS.extend(map(chr, range(234, 237)))\n",
    "SPECIAL_CHARACTERS.extend(map(chr, range(238, 241)))\n",
    "SPECIAL_CHARACTERS.extend(map(chr, range(242, 243)))\n",
    "SPECIAL_CHARACTERS.extend(map(chr, range(244, 250)))\n",
    "SPECIAL_CHARACTERS.extend(map(chr, range(251, 880)))\n",
    "\n",
    "nltk.download('punkt')"
   ]
  },
  {
   "cell_type": "code",
   "execution_count": 7,
   "id": "0a66aedb",
   "metadata": {},
   "outputs": [],
   "source": [
    "# The screen is cleaned\n",
    "class ClearScreen():\n",
    "    \n",
    "    def __init__(self):\n",
    "        self.clear = os.system('cls' if os.name=='nt' else 'clear')"
   ]
  },
  {
   "cell_type": "markdown",
   "id": "895dc30e",
   "metadata": {},
   "source": [
    "## Obtenemos el listado de archivos"
   ]
  },
  {
   "cell_type": "code",
   "execution_count": 8,
   "id": "3daf54c5",
   "metadata": {},
   "outputs": [],
   "source": [
    "# Obtener la lista de archivos en el directorio\n",
    "def getFiles(path, extension=\"*.txt\"): \n",
    "    \n",
    "    # Construir el patrón de búsqueda\n",
    "    patron = os.path.join(path, extension)\n",
    "    \n",
    "    # Obtener la lista de archivos que coinciden con el patrón\n",
    "    archivos = glob.glob(patron)\n",
    "    \n",
    "    return archivos"
   ]
  },
  {
   "cell_type": "code",
   "execution_count": 9,
   "id": "68bb08dc",
   "metadata": {},
   "outputs": [],
   "source": [
    "def countFiles(path, extension=\"*.txt\"): \n",
    "    \n",
    "    # Construir el patrón de búsqueda\n",
    "    patron = os.path.join(path, extension)\n",
    "    \n",
    "    # Obtener la lista de archivos que coinciden con el patrón\n",
    "    archivos = glob.glob(patron)\n",
    "    \n",
    "    return len(archivos)   "
   ]
  },
  {
   "cell_type": "markdown",
   "id": "cd8739c3",
   "metadata": {},
   "source": [
    "### Definimos la variable path con la ruta de la carpeta donde se encuentran los archivos"
   ]
  },
  {
   "cell_type": "code",
   "execution_count": 10,
   "id": "3db4436e",
   "metadata": {},
   "outputs": [],
   "source": [
    "path = os.path.join(os.getcwd(), \"corpus\")"
   ]
  },
  {
   "cell_type": "code",
   "execution_count": 13,
   "id": "2627ccaa",
   "metadata": {},
   "outputs": [],
   "source": [
    "def getDatos(files, iteracion):\n",
    "    datos = []\n",
    "    \n",
    "    for i, value in enumerate(files):      \n",
    "              \n",
    "        print(\"File: \" + str(i))\n",
    "        \n",
    "        file = open(value, encoding= \"utf-8-sig\")\n",
    "        text = file.read()\n",
    "        file.close()\n",
    "        \n",
    "        filename = os.path.basename(value)\n",
    "        \n",
    "        datos.append([i, filename, text])\n",
    "         \n",
    "        if i == iteracion - 1:\n",
    "            break \n",
    "    return datos"
   ]
  },
  {
   "cell_type": "code",
   "execution_count": 14,
   "id": "ec8fc619",
   "metadata": {},
   "outputs": [],
   "source": [
    "def saveCSV(df, filename):\n",
    "    if os.path.exists(filename):\n",
    "        os.remove(filename)\n",
    "    \n",
    "    df.to_csv(filename, index=False, encoding='utf-8-sig')"
   ]
  },
  {
   "cell_type": "code",
   "execution_count": 15,
   "id": "227c4056",
   "metadata": {},
   "outputs": [],
   "source": [
    "class CleanText():\n",
    "    \n",
    "    def __init__(self, text, language=\"english\"):\n",
    "        \n",
    "        self.text = text\n",
    "        self.language = language\n",
    "        self.clean_text = None\n",
    "        self.remove_spec_text = None\n",
    "        self.remove_stop_text = None\n",
    "        self.lemma_text = None\n",
    "    \n",
    "    def removePatterns(self):\n",
    "        \n",
    "        replacements = (\n",
    "            (\"á\", \"a\"),\n",
    "            (\"é\", \"e\"),\n",
    "            (\"í\", \"i\"),\n",
    "            (\"ó\", \"o\"),\n",
    "            (\"ú\", \"u\"),\n",
    "        )\n",
    "        self.text = str(self.text)\n",
    "        self.clean_text = self.text.lower()\n",
    "        self.clean_text = re.sub(r\"\\s{2,}\", \" \", self.clean_text)\n",
    "        self.clean_text = re.sub(r\"\\n\", \" \", self.clean_text)\n",
    "        self.clean_text = re.sub(r\"\\d+\", \" \", self.clean_text)\n",
    "        self.clean_text = re.sub(r\"^\\s+\", \" \", self.clean_text)\n",
    "        self.clean_text = re.sub(r\"\\s+\", \" \", self.clean_text)\n",
    "        \n",
    "        for a, b in replacements:\n",
    "            self.clean_text = self.clean_text.replace(a, b).replace(a.upper(), b.upper())\n",
    "        \n",
    "        return self.clean_text\n",
    "    \n",
    "    def removeSpecChars(self):\n",
    "        \n",
    "        remove_patterns = self.removePatterns()\n",
    "        tokens = list(word_tokenize(remove_patterns))\n",
    "        clean_tokens = tokens.copy()\n",
    "        for i in range(len(clean_tokens)):\n",
    "            for special_character in SPECIAL_CHARACTERS:\n",
    "                clean_tokens[i] = clean_tokens[i].replace(special_character, '')            \n",
    "            \n",
    "        clean_tokens = [token for token in clean_tokens if token]        \n",
    "        self.remove_spec_text = \" \".join(clean_tokens)        \n",
    "        \n",
    "        return self.remove_spec_text       \n",
    "    \n",
    "    def RemoveStopText(self):\n",
    "        \n",
    "        st = [\"'\", \"!\", '\"', \"#\", \"$\", \"%\", \"&\", \"*\", \"+\", \"-\", \".\", \"/\", \"<\", \"=\", '>', \"?\",\n",
    "          \"@\", \"[\", \"\\\\\", \"]\", \"^\", \"_\", '`', \"{\", \"|\", \"}\", '~']\n",
    "        \n",
    "        sw = stopwords.words(self.language) + st\n",
    "        text = list(word_tokenize(self.removeSpecChars()))\n",
    "        text = [w for w in text if not w in sw]\n",
    "        self.remove_stop_text = \" \".join(text)\n",
    "        \n",
    "        return self.remove_stop_text\n",
    "    \n",
    "    def lemmatizeText(self):\n",
    "        \n",
    "        lemmatizer = WordNetLemmatizer()\n",
    "        list_lemma_text = []\n",
    "        tokens = word_tokenize(self.RemoveStopText())\n",
    "        \n",
    "        for token in tokens:\n",
    "            lemmetized_word = lemmatizer.lemmatize(token)\n",
    "            list_lemma_text.append(lemmetized_word)\n",
    "        \n",
    "        self.lemma_text = \" \".join(list_lemma_text)\n",
    "        \n",
    "        return self.lemma_text"
   ]
  },
  {
   "cell_type": "code",
   "execution_count": null,
   "id": "e2c4d9bd",
   "metadata": {},
   "outputs": [
    {
     "name": "stdout",
     "output_type": "stream",
     "text": [
      "El número de archivos *.txt en el directorio C:\\Users\\usuario\\Documents\\DIPLODATOS\\deteccion_plagio\\M11-DeteccionPlagio-GrupoB\\corpus es: 0\n",
      "Elija un numero entre 0 y -1: 0\n",
      "Usted debe ingresar un valor entre 0 y -1\n",
      "\n"
     ]
    }
   ],
   "source": [
    "# Imprimir el número de archivos encontrados\n",
    "print(f\"El número de archivos *.txt en el directorio {path} es: {countFiles(path)}\")\n",
    "\n",
    "band = False\n",
    "while not band:\n",
    "    # Define the size of the list    \n",
    "    try:\n",
    "        limite = countFiles(path) - 1\n",
    "        iteracion = int(input(f\"Elija un numero entre 0 y {limite}: \"))\n",
    "        if iteracion > 0 and iteracion <= countFiles(path):\n",
    "            print(f\"Se recorrerá hasta la iteración {iteracion}\")\n",
    "            band = True\n",
    "        else:\n",
    "            print(f\"Usted debe ingresar un valor entre 0 y {limite}\\n\")\n",
    "            input(\"Presione alguna tecla para seguir...\")\n",
    "            ClearScreen().clear\n",
    "            \n",
    "    except Exception as e:\n",
    "        print(str(e)+\"\\n\")\n",
    "        print(\"Usted debe ingresar un valor númerico \\n\")\n",
    "        input(\"Presione alguna tecla para seguir...\")\n",
    "        ClearScreen().clear\n",
    "        \n",
    "        \n",
    "datos = getDatos(getFiles(path), iteracion)\n",
    "\n",
    "df = pd.DataFrame(datos, columns=[\"index\", \"filename\", \"text\"])\n",
    "\n",
    "saveCSV(df, \"intrinsic.csv\")\n"
   ]
  },
  {
   "cell_type": "markdown",
   "id": "e509d3a9",
   "metadata": {},
   "source": [
    "### Trabajamos con una copia de df para no modificar el original"
   ]
  },
  {
   "cell_type": "code",
   "execution_count": 12,
   "id": "3056b4ab",
   "metadata": {},
   "outputs": [],
   "source": [
    "new_df = df.copy()"
   ]
  },
  {
   "cell_type": "markdown",
   "id": "c440ab8d",
   "metadata": {},
   "source": [
    "### Agregamos una columna con el contenido de los archivos 'limpios'"
   ]
  },
  {
   "cell_type": "code",
   "execution_count": 13,
   "id": "5e748541",
   "metadata": {},
   "outputs": [],
   "source": [
    "new_df[\"clean_text\"] = df[\"text\"].map(lambda x: CleanText(str(x)).lemmatizeText())"
   ]
  },
  {
   "cell_type": "markdown",
   "id": "ddccff45",
   "metadata": {},
   "source": [
    "# Palabras más frecuentes del texto 'sucio'"
   ]
  },
  {
   "cell_type": "code",
   "execution_count": 25,
   "id": "18786536",
   "metadata": {},
   "outputs": [],
   "source": [
    "from sklearn.feature_extraction.text import CountVectorizer"
   ]
  },
  {
   "cell_type": "code",
   "execution_count": 31,
   "id": "45b66ffc",
   "metadata": {},
   "outputs": [],
   "source": [
    "cv = CountVectorizer()\n",
    "sum_words_without_clean = cv.fit_transform(new_df['text'].values.astype('U')).sum(axis=0)\n",
    "\n",
    "# Calculamos \n",
    "words_freq_without_clean = [(word, sum_words_without_clean[0, idx]) for word, idx in cv.vocabulary_.items()]\n",
    "words_freq_without_clean = sorted(words_freq_without_clean, key = lambda x: x[1], reverse=True)[:25]"
   ]
  },
  {
   "cell_type": "code",
   "execution_count": 32,
   "id": "6d129bb2",
   "metadata": {},
   "outputs": [
    {
     "data": {
      "text/plain": [
       "[('the', 3625),\n",
       " ('of', 2354),\n",
       " ('to', 1683),\n",
       " ('and', 1680),\n",
       " ('in', 1145),\n",
       " ('her', 654),\n",
       " ('that', 540),\n",
       " ('is', 518),\n",
       " ('was', 486),\n",
       " ('as', 483),\n",
       " ('by', 437),\n",
       " ('it', 431),\n",
       " ('she', 394),\n",
       " ('be', 390),\n",
       " ('their', 377),\n",
       " ('with', 375),\n",
       " ('for', 370),\n",
       " ('his', 342),\n",
       " ('not', 335),\n",
       " ('or', 328),\n",
       " ('they', 319),\n",
       " ('but', 277),\n",
       " ('were', 270),\n",
       " ('which', 268),\n",
       " ('women', 261)]"
      ]
     },
     "execution_count": 32,
     "metadata": {},
     "output_type": "execute_result"
    }
   ],
   "source": [
    "words_freq_without_clean"
   ]
  },
  {
   "cell_type": "code",
   "execution_count": 33,
   "id": "77c323f6",
   "metadata": {},
   "outputs": [
    {
     "data": {
      "image/png": "[encoded data removed]",
      "text/plain": [
       "<Figure size 700x500 with 1 Axes>"
      ]
     },
     "metadata": {},
     "output_type": "display_data"
    }
   ],
   "source": [
    "sns.set(font_scale=1)\n",
    "\n",
    "plt.figure(figsize=(7, 5))\n",
    "plt.barh(*zip(*words_freq_without_clean))\n",
    "\n",
    "plt.show()"
   ]
  },
  {
   "cell_type": "markdown",
   "id": "916fceba",
   "metadata": {},
   "source": [
    "# Palabras más frecuentes del texto limpio"
   ]
  },
  {
   "cell_type": "code",
   "execution_count": 34,
   "id": "fb02bcf6",
   "metadata": {},
   "outputs": [],
   "source": [
    "sum_words_with_clean = cv.fit_transform(new_df['clean_text'].values.astype('U')).sum(axis=0)\n",
    "\n",
    "# Calculamos \n",
    "words_freq_with_clean = [(word, sum_words_with_clean[0, idx]) for word, idx in cv.vocabulary_.items()]\n",
    "words_freq_with_clean = sorted(words_freq_with_clean, key = lambda x: x[1], reverse=True)[:25]"
   ]
  },
  {
   "cell_type": "code",
   "execution_count": 35,
   "id": "117f7210",
   "metadata": {},
   "outputs": [
    {
     "data": {
      "image/png": "[encoded data removed]",
      "text/plain": [
       "<Figure size 700x500 with 1 Axes>"
      ]
     },
     "metadata": {},
     "output_type": "display_data"
    }
   ],
   "source": [
    "sns.set(font_scale=1)\n",
    "\n",
    "plt.figure(figsize=(7, 5))\n",
    "plt.barh(*zip(*words_freq_with_clean))\n",
    "\n",
    "plt.show()"
   ]
  },
  {
   "cell_type": "markdown",
   "id": "b1f80a42",
   "metadata": {},
   "source": [
    "# Nube de Palabras\n",
    "\n",
    "Se separan las palabras según etiqueta (negative, neutral, positive)"
   ]
  },
  {
   "cell_type": "markdown",
   "id": "1fe722c0",
   "metadata": {},
   "source": [
    "Negative Class"
   ]
  },
  {
   "cell_type": "code",
   "execution_count": 36,
   "id": "040c64bf",
   "metadata": {},
   "outputs": [
    {
     "ename": "NameError",
     "evalue": "name 'STOPWORDS' is not defined",
     "output_type": "error",
     "traceback": [
      "\u001b[1;31m---------------------------------------------------------------------------\u001b[0m",
      "\u001b[1;31mNameError\u001b[0m                                 Traceback (most recent call last)",
      "Cell \u001b[1;32mIn[36], line 1\u001b[0m\n\u001b[1;32m----> 1\u001b[0m stopwords \u001b[39m=\u001b[39m \u001b[39mset\u001b[39m(STOPWORDS)\n\u001b[0;32m      3\u001b[0m negative_df \u001b[39m=\u001b[39m new_df[new_df[\u001b[39m\"\u001b[39m\u001b[39mtarget\u001b[39m\u001b[39m\"\u001b[39m] \u001b[39m==\u001b[39m \u001b[39m-\u001b[39m\u001b[39m1\u001b[39m]\n\u001b[0;32m      5\u001b[0m negative_text \u001b[39m=\u001b[39m \u001b[39m\"\u001b[39m\u001b[39m \u001b[39m\u001b[39m\"\u001b[39m\u001b[39m.\u001b[39mjoin(review \u001b[39mfor\u001b[39;00m review \u001b[39min\u001b[39;00m negative_df\u001b[39m.\u001b[39mclean_text\u001b[39m.\u001b[39mastype(\u001b[39mstr\u001b[39m))\n",
      "\u001b[1;31mNameError\u001b[0m: name 'STOPWORDS' is not defined"
     ]
    }
   ],
   "source": [
    "stopwords = set(STOPWORDS)\n",
    "\n",
    "negative_df = new_df[new_df[\"target\"] == -1]\n",
    "\n",
    "negative_text = \" \".join(review for review in negative_df.clean_text.astype(str))\n",
    "\n",
    "wordcloud = WordCloud(stopwords=stopwords, background_color=\"white\", width=800, height=400).generate(negative_text)"
   ]
  },
  {
   "cell_type": "code",
   "execution_count": null,
   "id": "883c720c",
   "metadata": {},
   "outputs": [],
   "source": [
    "plt.axis(\"off\")\n",
    "\n",
    "plt.figure(figsize=(40,20))\n",
    "\n",
    "plt.tight_layout(pad=0)\n",
    "\n",
    "plt.imshow(wordcloud, interpolation=\"bilinear\")\n",
    "\n",
    "plt.show()"
   ]
  },
  {
   "cell_type": "markdown",
   "id": "23b44082",
   "metadata": {},
   "source": [
    "#### Aplicamos TF-IDF (Term Frequency-Inverse Document Frequency)"
   ]
  },
  {
   "cell_type": "code",
   "execution_count": null,
   "id": "e610ccf3",
   "metadata": {},
   "outputs": [],
   "source": [
    "#Importa las clases necesarias de sklearn:\n",
    "from sklearn.feature_extraction.text import TfidfVectorizer"
   ]
  },
  {
   "cell_type": "code",
   "execution_count": null,
   "id": "168efd3c",
   "metadata": {},
   "outputs": [],
   "source": [
    "#Crea una instancia de TfidfVectorizer con los parámetros deseados:\n",
    "tfidf_vectorizer = TfidfVectorizer(max_df=0.90, min_df=2, max_features=1000, stop_words='english')"
   ]
  },
  {
   "cell_type": "code",
   "execution_count": null,
   "id": "3ec85f26",
   "metadata": {},
   "outputs": [],
   "source": [
    "#Aplica fit_transform a los datos de new_df['clean_text']:\n",
    "tfidf = tfidf_vectorizer.fit_transform(new_df['clean_text'])"
   ]
  }
 ],
 "metadata": {
  "kernelspec": {
   "display_name": "Python 3",
   "language": "python",
   "name": "python3"
  },
  "language_info": {
   "codemirror_mode": {
    "name": "ipython",
    "version": 3
   },
   "file_extension": ".py",
   "mimetype": "text/x-python",
   "name": "python",
   "nbconvert_exporter": "python",
   "pygments_lexer": "ipython3",
   "version": "3.8.8"
  }
 },
 "nbformat": 4,
 "nbformat_minor": 5
}
